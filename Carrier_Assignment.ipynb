{
 "cells": [
  {
   "cell_type": "code",
   "execution_count": 1,
   "metadata": {},
   "outputs": [],
   "source": [
    "import pandas as pd\n",
    "import numpy as np\n",
    "import matplotlib.pyplot as plt\n",
    "import seaborn as sns\n",
    "from sklearn.impute import KNNImputer\n",
    "from statsmodels.stats.outliers_influence import variance_inflation_factor\n",
    "from sklearn.ensemble import RandomForestClassifier\n",
    "import warnings\n",
    "warnings.filterwarnings('ignore')\n",
    "from sklearn.preprocessing import StandardScaler\n",
    "from sklearn import metrics\n",
    "from sklearn.model_selection import train_test_split\n",
    "from sklearn.model_selection import StratifiedShuffleSplit\n",
    "from sklearn.linear_model import LogisticRegression\n",
    "from sklearn.metrics import roc_auc_score\n",
    "from sklearn.metrics import roc_curve\n",
    "from sklearn.metrics import confusion_matrix\n",
    "%matplotlib inline"
   ]
  },
  {
   "cell_type": "code",
   "execution_count": 2,
   "metadata": {},
   "outputs": [],
   "source": [
    "original_data_df = pd.read_csv(\"E:/Carrier/zeta-disease.csv\")"
   ]
  },
  {
   "cell_type": "code",
   "execution_count": 3,
   "metadata": {},
   "outputs": [
    {
     "data": {
      "text/html": [
       "<div>\n",
       "<style scoped>\n",
       "    .dataframe tbody tr th:only-of-type {\n",
       "        vertical-align: middle;\n",
       "    }\n",
       "\n",
       "    .dataframe tbody tr th {\n",
       "        vertical-align: top;\n",
       "    }\n",
       "\n",
       "    .dataframe thead th {\n",
       "        text-align: right;\n",
       "    }\n",
       "</style>\n",
       "<table border=\"1\" class=\"dataframe\">\n",
       "  <thead>\n",
       "    <tr style=\"text-align: right;\">\n",
       "      <th></th>\n",
       "      <th>age</th>\n",
       "      <th>weight</th>\n",
       "      <th>bmi</th>\n",
       "      <th>blood_pressure</th>\n",
       "      <th>insulin_test</th>\n",
       "      <th>liver_stress_test</th>\n",
       "      <th>cardio_stress_test</th>\n",
       "      <th>years_smoking</th>\n",
       "      <th>zeta_disease</th>\n",
       "    </tr>\n",
       "  </thead>\n",
       "  <tbody>\n",
       "    <tr>\n",
       "      <th>0</th>\n",
       "      <td>54</td>\n",
       "      <td>189</td>\n",
       "      <td>27.1</td>\n",
       "      <td>80</td>\n",
       "      <td>0</td>\n",
       "      <td>1.5038</td>\n",
       "      <td>0</td>\n",
       "      <td>10</td>\n",
       "      <td>0</td>\n",
       "    </tr>\n",
       "    <tr>\n",
       "      <th>1</th>\n",
       "      <td>23</td>\n",
       "      <td>150</td>\n",
       "      <td>38.5</td>\n",
       "      <td>68</td>\n",
       "      <td>71</td>\n",
       "      <td>0.3868</td>\n",
       "      <td>55</td>\n",
       "      <td>2</td>\n",
       "      <td>0</td>\n",
       "    </tr>\n",
       "    <tr>\n",
       "      <th>2</th>\n",
       "      <td>47</td>\n",
       "      <td>186</td>\n",
       "      <td>29.9</td>\n",
       "      <td>90</td>\n",
       "      <td>0</td>\n",
       "      <td>0.2728</td>\n",
       "      <td>0</td>\n",
       "      <td>7</td>\n",
       "      <td>0</td>\n",
       "    </tr>\n",
       "    <tr>\n",
       "      <th>3</th>\n",
       "      <td>18</td>\n",
       "      <td>150</td>\n",
       "      <td>30.8</td>\n",
       "      <td>70</td>\n",
       "      <td>1033</td>\n",
       "      <td>0.6598</td>\n",
       "      <td>56</td>\n",
       "      <td>0</td>\n",
       "      <td>0</td>\n",
       "    </tr>\n",
       "    <tr>\n",
       "      <th>4</th>\n",
       "      <td>24</td>\n",
       "      <td>160</td>\n",
       "      <td>32.4</td>\n",
       "      <td>74</td>\n",
       "      <td>125</td>\n",
       "      <td>0.7608</td>\n",
       "      <td>59</td>\n",
       "      <td>2</td>\n",
       "      <td>0</td>\n",
       "    </tr>\n",
       "  </tbody>\n",
       "</table>\n",
       "</div>"
      ],
      "text/plain": [
       "   age  weight   bmi  blood_pressure  insulin_test  liver_stress_test  \\\n",
       "0   54     189  27.1              80             0             1.5038   \n",
       "1   23     150  38.5              68            71             0.3868   \n",
       "2   47     186  29.9              90             0             0.2728   \n",
       "3   18     150  30.8              70          1033             0.6598   \n",
       "4   24     160  32.4              74           125             0.7608   \n",
       "\n",
       "   cardio_stress_test  years_smoking  zeta_disease  \n",
       "0                   0             10             0  \n",
       "1                  55              2             0  \n",
       "2                   0              7             0  \n",
       "3                  56              0             0  \n",
       "4                  59              2             0  "
      ]
     },
     "execution_count": 3,
     "metadata": {},
     "output_type": "execute_result"
    }
   ],
   "source": [
    "original_data_df.head()"
   ]
  },
  {
   "cell_type": "code",
   "execution_count": 4,
   "metadata": {},
   "outputs": [
    {
     "name": "stdout",
     "output_type": "stream",
     "text": [
      "<class 'pandas.core.frame.DataFrame'>\n",
      "RangeIndex: 800 entries, 0 to 799\n",
      "Data columns (total 9 columns):\n",
      " #   Column              Non-Null Count  Dtype  \n",
      "---  ------              --------------  -----  \n",
      " 0   age                 800 non-null    int64  \n",
      " 1   weight              800 non-null    int64  \n",
      " 2   bmi                 800 non-null    float64\n",
      " 3   blood_pressure      800 non-null    int64  \n",
      " 4   insulin_test        800 non-null    int64  \n",
      " 5   liver_stress_test   800 non-null    float64\n",
      " 6   cardio_stress_test  800 non-null    int64  \n",
      " 7   years_smoking       800 non-null    int64  \n",
      " 8   zeta_disease        800 non-null    int64  \n",
      "dtypes: float64(2), int64(7)\n",
      "memory usage: 56.4 KB\n"
     ]
    }
   ],
   "source": [
    "original_data_df.info()"
   ]
  },
  {
   "cell_type": "code",
   "execution_count": 5,
   "metadata": {},
   "outputs": [],
   "source": [
    "X = original_data_df.drop(['zeta_disease'], axis = 1)\n",
    "y = original_data_df.drop(['age', 'weight', 'bmi', 'blood_pressure', 'insulin_test', 'liver_stress_test', 'cardio_stress_test', 'years_smoking'], axis = 1)"
   ]
  },
  {
   "cell_type": "code",
   "execution_count": 6,
   "metadata": {},
   "outputs": [
    {
     "data": {
      "text/html": [
       "<div>\n",
       "<style scoped>\n",
       "    .dataframe tbody tr th:only-of-type {\n",
       "        vertical-align: middle;\n",
       "    }\n",
       "\n",
       "    .dataframe tbody tr th {\n",
       "        vertical-align: top;\n",
       "    }\n",
       "\n",
       "    .dataframe thead th {\n",
       "        text-align: right;\n",
       "    }\n",
       "</style>\n",
       "<table border=\"1\" class=\"dataframe\">\n",
       "  <thead>\n",
       "    <tr style=\"text-align: right;\">\n",
       "      <th></th>\n",
       "      <th>count</th>\n",
       "      <th>mean</th>\n",
       "      <th>std</th>\n",
       "      <th>min</th>\n",
       "      <th>25%</th>\n",
       "      <th>50%</th>\n",
       "      <th>75%</th>\n",
       "      <th>max</th>\n",
       "    </tr>\n",
       "  </thead>\n",
       "  <tbody>\n",
       "    <tr>\n",
       "      <th>age</th>\n",
       "      <td>800.0</td>\n",
       "      <td>30.985000</td>\n",
       "      <td>13.824025</td>\n",
       "      <td>18.0000</td>\n",
       "      <td>21.0000</td>\n",
       "      <td>26.0000</td>\n",
       "      <td>38.0000</td>\n",
       "      <td>109.0000</td>\n",
       "    </tr>\n",
       "    <tr>\n",
       "      <th>weight</th>\n",
       "      <td>800.0</td>\n",
       "      <td>172.407500</td>\n",
       "      <td>31.942438</td>\n",
       "      <td>94.0000</td>\n",
       "      <td>149.0000</td>\n",
       "      <td>167.0000</td>\n",
       "      <td>192.0000</td>\n",
       "      <td>308.0000</td>\n",
       "    </tr>\n",
       "    <tr>\n",
       "      <th>bmi</th>\n",
       "      <td>800.0</td>\n",
       "      <td>32.201625</td>\n",
       "      <td>8.549155</td>\n",
       "      <td>0.0000</td>\n",
       "      <td>27.3000</td>\n",
       "      <td>32.0500</td>\n",
       "      <td>36.5250</td>\n",
       "      <td>86.1000</td>\n",
       "    </tr>\n",
       "    <tr>\n",
       "      <th>blood_pressure</th>\n",
       "      <td>800.0</td>\n",
       "      <td>69.565000</td>\n",
       "      <td>19.874784</td>\n",
       "      <td>0.0000</td>\n",
       "      <td>62.0000</td>\n",
       "      <td>72.0000</td>\n",
       "      <td>80.0000</td>\n",
       "      <td>157.0000</td>\n",
       "    </tr>\n",
       "    <tr>\n",
       "      <th>insulin_test</th>\n",
       "      <td>800.0</td>\n",
       "      <td>85.887500</td>\n",
       "      <td>126.333656</td>\n",
       "      <td>0.0000</td>\n",
       "      <td>0.0000</td>\n",
       "      <td>45.0000</td>\n",
       "      <td>130.0000</td>\n",
       "      <td>1077.0000</td>\n",
       "    </tr>\n",
       "    <tr>\n",
       "      <th>liver_stress_test</th>\n",
       "      <td>800.0</td>\n",
       "      <td>0.544496</td>\n",
       "      <td>0.348711</td>\n",
       "      <td>0.1408</td>\n",
       "      <td>0.3078</td>\n",
       "      <td>0.4453</td>\n",
       "      <td>0.6998</td>\n",
       "      <td>3.4813</td>\n",
       "    </tr>\n",
       "    <tr>\n",
       "      <th>cardio_stress_test</th>\n",
       "      <td>800.0</td>\n",
       "      <td>43.121250</td>\n",
       "      <td>30.409949</td>\n",
       "      <td>0.0000</td>\n",
       "      <td>0.0000</td>\n",
       "      <td>53.0000</td>\n",
       "      <td>62.0000</td>\n",
       "      <td>214.0000</td>\n",
       "    </tr>\n",
       "    <tr>\n",
       "      <th>years_smoking</th>\n",
       "      <td>800.0</td>\n",
       "      <td>4.051250</td>\n",
       "      <td>4.176173</td>\n",
       "      <td>0.0000</td>\n",
       "      <td>1.0000</td>\n",
       "      <td>3.0000</td>\n",
       "      <td>6.0000</td>\n",
       "      <td>40.0000</td>\n",
       "    </tr>\n",
       "  </tbody>\n",
       "</table>\n",
       "</div>"
      ],
      "text/plain": [
       "                    count        mean         std      min       25%  \\\n",
       "age                 800.0   30.985000   13.824025  18.0000   21.0000   \n",
       "weight              800.0  172.407500   31.942438  94.0000  149.0000   \n",
       "bmi                 800.0   32.201625    8.549155   0.0000   27.3000   \n",
       "blood_pressure      800.0   69.565000   19.874784   0.0000   62.0000   \n",
       "insulin_test        800.0   85.887500  126.333656   0.0000    0.0000   \n",
       "liver_stress_test   800.0    0.544496    0.348711   0.1408    0.3078   \n",
       "cardio_stress_test  800.0   43.121250   30.409949   0.0000    0.0000   \n",
       "years_smoking       800.0    4.051250    4.176173   0.0000    1.0000   \n",
       "\n",
       "                         50%       75%        max  \n",
       "age                  26.0000   38.0000   109.0000  \n",
       "weight              167.0000  192.0000   308.0000  \n",
       "bmi                  32.0500   36.5250    86.1000  \n",
       "blood_pressure       72.0000   80.0000   157.0000  \n",
       "insulin_test         45.0000  130.0000  1077.0000  \n",
       "liver_stress_test     0.4453    0.6998     3.4813  \n",
       "cardio_stress_test   53.0000   62.0000   214.0000  \n",
       "years_smoking         3.0000    6.0000    40.0000  "
      ]
     },
     "execution_count": 6,
     "metadata": {},
     "output_type": "execute_result"
    }
   ],
   "source": [
    "X.describe().T"
   ]
  },
  {
   "cell_type": "code",
   "execution_count": 7,
   "metadata": {},
   "outputs": [
    {
     "data": {
      "text/html": [
       "<div>\n",
       "<style scoped>\n",
       "    .dataframe tbody tr th:only-of-type {\n",
       "        vertical-align: middle;\n",
       "    }\n",
       "\n",
       "    .dataframe tbody tr th {\n",
       "        vertical-align: top;\n",
       "    }\n",
       "\n",
       "    .dataframe thead th {\n",
       "        text-align: right;\n",
       "    }\n",
       "</style>\n",
       "<table border=\"1\" class=\"dataframe\">\n",
       "  <thead>\n",
       "    <tr style=\"text-align: right;\">\n",
       "      <th></th>\n",
       "      <th>age</th>\n",
       "      <th>weight</th>\n",
       "      <th>bmi</th>\n",
       "      <th>blood_pressure</th>\n",
       "      <th>insulin_test</th>\n",
       "      <th>liver_stress_test</th>\n",
       "      <th>cardio_stress_test</th>\n",
       "      <th>years_smoking</th>\n",
       "    </tr>\n",
       "  </thead>\n",
       "  <tbody>\n",
       "    <tr>\n",
       "      <th>age</th>\n",
       "      <td>1.000000</td>\n",
       "      <td>0.157705</td>\n",
       "      <td>0.035347</td>\n",
       "      <td>0.193066</td>\n",
       "      <td>-0.034294</td>\n",
       "      <td>0.042416</td>\n",
       "      <td>-0.106039</td>\n",
       "      <td>0.372373</td>\n",
       "    </tr>\n",
       "    <tr>\n",
       "      <th>weight</th>\n",
       "      <td>0.157705</td>\n",
       "      <td>1.000000</td>\n",
       "      <td>0.214262</td>\n",
       "      <td>0.122349</td>\n",
       "      <td>0.304295</td>\n",
       "      <td>0.146779</td>\n",
       "      <td>0.053629</td>\n",
       "      <td>0.100834</td>\n",
       "    </tr>\n",
       "    <tr>\n",
       "      <th>bmi</th>\n",
       "      <td>0.035347</td>\n",
       "      <td>0.214262</td>\n",
       "      <td>1.000000</td>\n",
       "      <td>0.240513</td>\n",
       "      <td>0.217265</td>\n",
       "      <td>0.116649</td>\n",
       "      <td>0.264861</td>\n",
       "      <td>0.028683</td>\n",
       "    </tr>\n",
       "    <tr>\n",
       "      <th>blood_pressure</th>\n",
       "      <td>0.193066</td>\n",
       "      <td>0.122349</td>\n",
       "      <td>0.240513</td>\n",
       "      <td>1.000000</td>\n",
       "      <td>0.079425</td>\n",
       "      <td>0.045764</td>\n",
       "      <td>0.193221</td>\n",
       "      <td>0.095613</td>\n",
       "    </tr>\n",
       "    <tr>\n",
       "      <th>insulin_test</th>\n",
       "      <td>-0.034294</td>\n",
       "      <td>0.304295</td>\n",
       "      <td>0.217265</td>\n",
       "      <td>0.079425</td>\n",
       "      <td>1.000000</td>\n",
       "      <td>0.175230</td>\n",
       "      <td>0.417894</td>\n",
       "      <td>-0.006292</td>\n",
       "    </tr>\n",
       "    <tr>\n",
       "      <th>liver_stress_test</th>\n",
       "      <td>0.042416</td>\n",
       "      <td>0.146779</td>\n",
       "      <td>0.116649</td>\n",
       "      <td>0.045764</td>\n",
       "      <td>0.175230</td>\n",
       "      <td>1.000000</td>\n",
       "      <td>0.172048</td>\n",
       "      <td>0.021817</td>\n",
       "    </tr>\n",
       "    <tr>\n",
       "      <th>cardio_stress_test</th>\n",
       "      <td>-0.106039</td>\n",
       "      <td>0.053629</td>\n",
       "      <td>0.264861</td>\n",
       "      <td>0.193221</td>\n",
       "      <td>0.417894</td>\n",
       "      <td>0.172048</td>\n",
       "      <td>1.000000</td>\n",
       "      <td>-0.080358</td>\n",
       "    </tr>\n",
       "    <tr>\n",
       "      <th>years_smoking</th>\n",
       "      <td>0.372373</td>\n",
       "      <td>0.100834</td>\n",
       "      <td>0.028683</td>\n",
       "      <td>0.095613</td>\n",
       "      <td>-0.006292</td>\n",
       "      <td>0.021817</td>\n",
       "      <td>-0.080358</td>\n",
       "      <td>1.000000</td>\n",
       "    </tr>\n",
       "  </tbody>\n",
       "</table>\n",
       "</div>"
      ],
      "text/plain": [
       "                         age    weight       bmi  blood_pressure  \\\n",
       "age                 1.000000  0.157705  0.035347        0.193066   \n",
       "weight              0.157705  1.000000  0.214262        0.122349   \n",
       "bmi                 0.035347  0.214262  1.000000        0.240513   \n",
       "blood_pressure      0.193066  0.122349  0.240513        1.000000   \n",
       "insulin_test       -0.034294  0.304295  0.217265        0.079425   \n",
       "liver_stress_test   0.042416  0.146779  0.116649        0.045764   \n",
       "cardio_stress_test -0.106039  0.053629  0.264861        0.193221   \n",
       "years_smoking       0.372373  0.100834  0.028683        0.095613   \n",
       "\n",
       "                    insulin_test  liver_stress_test  cardio_stress_test  \\\n",
       "age                    -0.034294           0.042416           -0.106039   \n",
       "weight                  0.304295           0.146779            0.053629   \n",
       "bmi                     0.217265           0.116649            0.264861   \n",
       "blood_pressure          0.079425           0.045764            0.193221   \n",
       "insulin_test            1.000000           0.175230            0.417894   \n",
       "liver_stress_test       0.175230           1.000000            0.172048   \n",
       "cardio_stress_test      0.417894           0.172048            1.000000   \n",
       "years_smoking          -0.006292           0.021817           -0.080358   \n",
       "\n",
       "                    years_smoking  \n",
       "age                      0.372373  \n",
       "weight                   0.100834  \n",
       "bmi                      0.028683  \n",
       "blood_pressure           0.095613  \n",
       "insulin_test            -0.006292  \n",
       "liver_stress_test        0.021817  \n",
       "cardio_stress_test      -0.080358  \n",
       "years_smoking            1.000000  "
      ]
     },
     "execution_count": 7,
     "metadata": {},
     "output_type": "execute_result"
    }
   ],
   "source": [
    "# Lets check the correlation between X variables. There is not much of a correlation here.\n",
    "# In the subsequent steps we will use VIF score to check the presence of multicollinearity.\n",
    "# The only thing we can observe is between cardiac_stress_test and insulin_test.\n",
    "# Other one is between age and years_smoking which is obvious.\n",
    "X.corr()"
   ]
  },
  {
   "cell_type": "code",
   "execution_count": 8,
   "metadata": {},
   "outputs": [
    {
     "data": {
      "text/plain": [
       "age                   0\n",
       "weight                0\n",
       "bmi                   0\n",
       "blood_pressure        0\n",
       "insulin_test          0\n",
       "liver_stress_test     0\n",
       "cardio_stress_test    0\n",
       "years_smoking         0\n",
       "dtype: int64"
      ]
     },
     "execution_count": 8,
     "metadata": {},
     "output_type": "execute_result"
    }
   ],
   "source": [
    "#This block is the check if there are null values. But as we see below, there are no null values in this data set.\n",
    "#So, no need to impute any values.\n",
    "X.isnull().sum()"
   ]
  },
  {
   "cell_type": "code",
   "execution_count": 9,
   "metadata": {},
   "outputs": [
    {
     "data": {
      "image/png": "[encoded data removed]",
      "text/plain": [
       "<Figure size 432x144 with 1 Axes>"
      ]
     },
     "metadata": {
      "needs_background": "light"
     },
     "output_type": "display_data"
    },
    {
     "data": {
      "image/png": "[encoded data removed]",
      "text/plain": [
       "<Figure size 432x144 with 1 Axes>"
      ]
     },
     "metadata": {
      "needs_background": "light"
     },
     "output_type": "display_data"
    },
    {
     "data": {
      "image/png": "[encoded data removed]",
      "text/plain": [
       "<Figure size 432x144 with 1 Axes>"
      ]
     },
     "metadata": {
      "needs_background": "light"
     },
     "output_type": "display_data"
    },
    {
     "data": {
      "image/png": "[encoded data removed]",
      "text/plain": [
       "<Figure size 432x144 with 1 Axes>"
      ]
     },
     "metadata": {
      "needs_background": "light"
     },
     "output_type": "display_data"
    },
    {
     "data": {
      "image/png": "[encoded data removed]",
      "text/plain": [
       "<Figure size 432x144 with 1 Axes>"
      ]
     },
     "metadata": {
      "needs_background": "light"
     },
     "output_type": "display_data"
    },
    {
     "data": {
      "image/png": "[encoded data removed]",
      "text/plain": [
       "<Figure size 432x144 with 1 Axes>"
      ]
     },
     "metadata": {
      "needs_background": "light"
     },
     "output_type": "display_data"
    },
    {
     "data": {
      "image/png": "[encoded data removed]",
      "text/plain": [
       "<Figure size 432x144 with 1 Axes>"
      ]
     },
     "metadata": {
      "needs_background": "light"
     },
     "output_type": "display_data"
    },
    {
     "data": {
      "image/png": "[encoded data removed]",
      "text/plain": [
       "<Figure size 432x144 with 1 Axes>"
      ]
     },
     "metadata": {
      "needs_background": "light"
     },
     "output_type": "display_data"
    }
   ],
   "source": [
    "plt.rcParams['figure.figsize'] = [6, 2]\n",
    "for column in X.columns:\n",
    "    plt.figure()\n",
    "    sns.distplot(X[column])"
   ]
  },
  {
   "cell_type": "code",
   "execution_count": 10,
   "metadata": {},
   "outputs": [
    {
     "data": {
      "image/png": "[encoded data removed]",
      "text/plain": [
       "<Figure size 432x144 with 1 Axes>"
      ]
     },
     "metadata": {},
     "output_type": "display_data"
    }
   ],
   "source": [
    "sns.set_style(\"whitegrid\") \n",
    "ax = sns.boxplot(data=X, orient=\"h\") "
   ]
  },
  {
   "cell_type": "markdown",
   "metadata": {},
   "source": [
    "# A zero bmi and blood pressure is wrong data. We need to impute here.\n",
    "\n",
    "# Zero insulin level is like zero blood sugar and it's not possible. So, there is something wrong with the data. We have almost 50% data with zero insulin level. Even if we want, we can't impute as it's not advisable."
   ]
  },
  {
   "cell_type": "markdown",
   "metadata": {},
   "source": [
    "# A cardiac stress score of zero is the best. Scores between 1 and 100 indicate a low level of risk, scores from 100 to 400 indicate an increased risk with treatment recommended, and a score over 400 identifies patients at highest risk for heart attack."
   ]
  },
  {
   "cell_type": "code",
   "execution_count": 11,
   "metadata": {},
   "outputs": [
    {
     "data": {
      "text/plain": [
       "age                   0\n",
       "weight                0\n",
       "bmi                   0\n",
       "blood_pressure        0\n",
       "insulin_test          0\n",
       "liver_stress_test     0\n",
       "cardio_stress_test    0\n",
       "years_smoking         0\n",
       "dtype: int64"
      ]
     },
     "execution_count": 11,
     "metadata": {},
     "output_type": "execute_result"
    }
   ],
   "source": [
    "X.isnull().sum()"
   ]
  },
  {
   "cell_type": "code",
   "execution_count": 12,
   "metadata": {},
   "outputs": [
    {
     "data": {
      "text/html": [
       "<div>\n",
       "<style scoped>\n",
       "    .dataframe tbody tr th:only-of-type {\n",
       "        vertical-align: middle;\n",
       "    }\n",
       "\n",
       "    .dataframe tbody tr th {\n",
       "        vertical-align: top;\n",
       "    }\n",
       "\n",
       "    .dataframe thead th {\n",
       "        text-align: right;\n",
       "    }\n",
       "</style>\n",
       "<table border=\"1\" class=\"dataframe\">\n",
       "  <thead>\n",
       "    <tr style=\"text-align: right;\">\n",
       "      <th></th>\n",
       "      <th>age</th>\n",
       "      <th>weight</th>\n",
       "      <th>bmi</th>\n",
       "      <th>blood_pressure</th>\n",
       "      <th>insulin_test</th>\n",
       "      <th>liver_stress_test</th>\n",
       "      <th>cardio_stress_test</th>\n",
       "      <th>years_smoking</th>\n",
       "    </tr>\n",
       "  </thead>\n",
       "  <tbody>\n",
       "    <tr>\n",
       "      <th>0</th>\n",
       "      <td>54</td>\n",
       "      <td>189</td>\n",
       "      <td>27.1</td>\n",
       "      <td>80</td>\n",
       "      <td>0</td>\n",
       "      <td>1.5038</td>\n",
       "      <td>0</td>\n",
       "      <td>10</td>\n",
       "    </tr>\n",
       "    <tr>\n",
       "      <th>1</th>\n",
       "      <td>23</td>\n",
       "      <td>150</td>\n",
       "      <td>38.5</td>\n",
       "      <td>68</td>\n",
       "      <td>71</td>\n",
       "      <td>0.3868</td>\n",
       "      <td>55</td>\n",
       "      <td>2</td>\n",
       "    </tr>\n",
       "    <tr>\n",
       "      <th>2</th>\n",
       "      <td>47</td>\n",
       "      <td>186</td>\n",
       "      <td>29.9</td>\n",
       "      <td>90</td>\n",
       "      <td>0</td>\n",
       "      <td>0.2728</td>\n",
       "      <td>0</td>\n",
       "      <td>7</td>\n",
       "    </tr>\n",
       "    <tr>\n",
       "      <th>3</th>\n",
       "      <td>18</td>\n",
       "      <td>150</td>\n",
       "      <td>30.8</td>\n",
       "      <td>70</td>\n",
       "      <td>1033</td>\n",
       "      <td>0.6598</td>\n",
       "      <td>56</td>\n",
       "      <td>0</td>\n",
       "    </tr>\n",
       "    <tr>\n",
       "      <th>4</th>\n",
       "      <td>24</td>\n",
       "      <td>160</td>\n",
       "      <td>32.4</td>\n",
       "      <td>74</td>\n",
       "      <td>125</td>\n",
       "      <td>0.7608</td>\n",
       "      <td>59</td>\n",
       "      <td>2</td>\n",
       "    </tr>\n",
       "    <tr>\n",
       "      <th>...</th>\n",
       "      <td>...</td>\n",
       "      <td>...</td>\n",
       "      <td>...</td>\n",
       "      <td>...</td>\n",
       "      <td>...</td>\n",
       "      <td>...</td>\n",
       "      <td>...</td>\n",
       "      <td>...</td>\n",
       "    </tr>\n",
       "    <tr>\n",
       "      <th>795</th>\n",
       "      <td>26</td>\n",
       "      <td>161</td>\n",
       "      <td>28.4</td>\n",
       "      <td>90</td>\n",
       "      <td>78</td>\n",
       "      <td>0.5578</td>\n",
       "      <td>42</td>\n",
       "      <td>3</td>\n",
       "    </tr>\n",
       "    <tr>\n",
       "      <th>796</th>\n",
       "      <td>37</td>\n",
       "      <td>165</td>\n",
       "      <td>33.7</td>\n",
       "      <td>60</td>\n",
       "      <td>0</td>\n",
       "      <td>0.3078</td>\n",
       "      <td>69</td>\n",
       "      <td>6</td>\n",
       "    </tr>\n",
       "    <tr>\n",
       "      <th>797</th>\n",
       "      <td>27</td>\n",
       "      <td>166</td>\n",
       "      <td>25.6</td>\n",
       "      <td>74</td>\n",
       "      <td>0</td>\n",
       "      <td>0.2638</td>\n",
       "      <td>0</td>\n",
       "      <td>5</td>\n",
       "    </tr>\n",
       "    <tr>\n",
       "      <th>798</th>\n",
       "      <td>109</td>\n",
       "      <td>139</td>\n",
       "      <td>28.1</td>\n",
       "      <td>66</td>\n",
       "      <td>94</td>\n",
       "      <td>0.2298</td>\n",
       "      <td>53</td>\n",
       "      <td>1</td>\n",
       "    </tr>\n",
       "    <tr>\n",
       "      <th>799</th>\n",
       "      <td>26</td>\n",
       "      <td>196</td>\n",
       "      <td>29.7</td>\n",
       "      <td>56</td>\n",
       "      <td>0</td>\n",
       "      <td>0.6268</td>\n",
       "      <td>0</td>\n",
       "      <td>1</td>\n",
       "    </tr>\n",
       "  </tbody>\n",
       "</table>\n",
       "<p>800 rows × 8 columns</p>\n",
       "</div>"
      ],
      "text/plain": [
       "     age  weight   bmi  blood_pressure  insulin_test  liver_stress_test  \\\n",
       "0     54     189  27.1              80             0             1.5038   \n",
       "1     23     150  38.5              68            71             0.3868   \n",
       "2     47     186  29.9              90             0             0.2728   \n",
       "3     18     150  30.8              70          1033             0.6598   \n",
       "4     24     160  32.4              74           125             0.7608   \n",
       "..   ...     ...   ...             ...           ...                ...   \n",
       "795   26     161  28.4              90            78             0.5578   \n",
       "796   37     165  33.7              60             0             0.3078   \n",
       "797   27     166  25.6              74             0             0.2638   \n",
       "798  109     139  28.1              66            94             0.2298   \n",
       "799   26     196  29.7              56             0             0.6268   \n",
       "\n",
       "     cardio_stress_test  years_smoking  \n",
       "0                     0             10  \n",
       "1                    55              2  \n",
       "2                     0              7  \n",
       "3                    56              0  \n",
       "4                    59              2  \n",
       "..                  ...            ...  \n",
       "795                  42              3  \n",
       "796                  69              6  \n",
       "797                   0              5  \n",
       "798                  53              1  \n",
       "799                   0              1  \n",
       "\n",
       "[800 rows x 8 columns]"
      ]
     },
     "execution_count": 12,
     "metadata": {},
     "output_type": "execute_result"
    }
   ],
   "source": [
    "X"
   ]
  },
  {
   "cell_type": "code",
   "execution_count": 13,
   "metadata": {},
   "outputs": [
    {
     "data": {
      "text/plain": [
       "age                   0\n",
       "weight                0\n",
       "bmi                   0\n",
       "blood_pressure        0\n",
       "insulin_test          0\n",
       "liver_stress_test     0\n",
       "cardio_stress_test    0\n",
       "years_smoking         0\n",
       "dtype: int64"
      ]
     },
     "execution_count": 13,
     "metadata": {},
     "output_type": "execute_result"
    }
   ],
   "source": [
    "X.isnull().sum()"
   ]
  },
  {
   "cell_type": "code",
   "execution_count": 14,
   "metadata": {},
   "outputs": [
    {
     "data": {
      "image/png": "[encoded data removed]",
      "text/plain": [
       "<Figure size 432x144 with 1 Axes>"
      ]
     },
     "metadata": {},
     "output_type": "display_data"
    }
   ],
   "source": [
    "model = RandomForestClassifier()\n",
    "model.fit(X, y)\n",
    "importance = model.feature_importances_\n",
    "importanceList = []\n",
    "for i,v in enumerate(importance):\n",
    "    importanceList.append(v)\n",
    "    #print('Feature: %0d, Score: %.5f' % (i,v))\n",
    "imp_df = pd.DataFrame()\n",
    "imp_df['Feature'] = X.columns\n",
    "imp_df['Importance'] = importanceList\n",
    "\n",
    "# plot feature importance\n",
    "plt.bar([x for x in range(len(importance))], importance)\n",
    "plt.show()"
   ]
  },
  {
   "cell_type": "code",
   "execution_count": 15,
   "metadata": {},
   "outputs": [
    {
     "data": {
      "text/html": [
       "<div>\n",
       "<style scoped>\n",
       "    .dataframe tbody tr th:only-of-type {\n",
       "        vertical-align: middle;\n",
       "    }\n",
       "\n",
       "    .dataframe tbody tr th {\n",
       "        vertical-align: top;\n",
       "    }\n",
       "\n",
       "    .dataframe thead th {\n",
       "        text-align: right;\n",
       "    }\n",
       "</style>\n",
       "<table border=\"1\" class=\"dataframe\">\n",
       "  <thead>\n",
       "    <tr style=\"text-align: right;\">\n",
       "      <th></th>\n",
       "      <th>Feature</th>\n",
       "      <th>Importance</th>\n",
       "    </tr>\n",
       "  </thead>\n",
       "  <tbody>\n",
       "    <tr>\n",
       "      <th>1</th>\n",
       "      <td>weight</td>\n",
       "      <td>0.262</td>\n",
       "    </tr>\n",
       "    <tr>\n",
       "      <th>2</th>\n",
       "      <td>bmi</td>\n",
       "      <td>0.157</td>\n",
       "    </tr>\n",
       "    <tr>\n",
       "      <th>0</th>\n",
       "      <td>age</td>\n",
       "      <td>0.138</td>\n",
       "    </tr>\n",
       "    <tr>\n",
       "      <th>5</th>\n",
       "      <td>liver_stress_test</td>\n",
       "      <td>0.121</td>\n",
       "    </tr>\n",
       "    <tr>\n",
       "      <th>7</th>\n",
       "      <td>years_smoking</td>\n",
       "      <td>0.087</td>\n",
       "    </tr>\n",
       "    <tr>\n",
       "      <th>3</th>\n",
       "      <td>blood_pressure</td>\n",
       "      <td>0.087</td>\n",
       "    </tr>\n",
       "    <tr>\n",
       "      <th>4</th>\n",
       "      <td>insulin_test</td>\n",
       "      <td>0.078</td>\n",
       "    </tr>\n",
       "    <tr>\n",
       "      <th>6</th>\n",
       "      <td>cardio_stress_test</td>\n",
       "      <td>0.070</td>\n",
       "    </tr>\n",
       "  </tbody>\n",
       "</table>\n",
       "</div>"
      ],
      "text/plain": [
       "              Feature  Importance\n",
       "1              weight       0.262\n",
       "2                 bmi       0.157\n",
       "0                 age       0.138\n",
       "5   liver_stress_test       0.121\n",
       "7       years_smoking       0.087\n",
       "3      blood_pressure       0.087\n",
       "4        insulin_test       0.078\n",
       "6  cardio_stress_test       0.070"
      ]
     },
     "execution_count": 15,
     "metadata": {},
     "output_type": "execute_result"
    }
   ],
   "source": [
    "imp_df_sorted = imp_df.sort_values(by = 'Importance', ascending = False)\n",
    "pd.options.display.float_format = '{:,.3f}'.format\n",
    "imp_df_sorted"
   ]
  },
  {
   "cell_type": "markdown",
   "metadata": {},
   "source": [
    "# According to the above value of of variable importance, weight is the most important and cardiac stress test is the least important"
   ]
  },
  {
   "cell_type": "markdown",
   "metadata": {},
   "source": [
    "# Lets check the Variance Inflation Factor for all the X variable. As a rule of thumb, VIF > 10 is NOT indicates high correlation and is a cause for concern."
   ]
  },
  {
   "cell_type": "code",
   "execution_count": 16,
   "metadata": {},
   "outputs": [],
   "source": [
    "vif = pd.DataFrame()\n",
    "vif[\"VIF\"] = [variance_inflation_factor(X.values, i) for i in range(X.shape[1])]\n",
    "vif[\"features\"] = X.columns"
   ]
  },
  {
   "cell_type": "markdown",
   "metadata": {},
   "source": [
    "# As you see below, BP, BMI and Weight have VFI score of more than 10. Now, lets drop bmi as it's calcualted by the formula BMI = Weight in kg/Height."
   ]
  },
  {
   "cell_type": "code",
   "execution_count": 17,
   "metadata": {},
   "outputs": [
    {
     "data": {
      "text/html": [
       "<div>\n",
       "<style scoped>\n",
       "    .dataframe tbody tr th:only-of-type {\n",
       "        vertical-align: middle;\n",
       "    }\n",
       "\n",
       "    .dataframe tbody tr th {\n",
       "        vertical-align: top;\n",
       "    }\n",
       "\n",
       "    .dataframe thead th {\n",
       "        text-align: right;\n",
       "    }\n",
       "</style>\n",
       "<table border=\"1\" class=\"dataframe\">\n",
       "  <thead>\n",
       "    <tr style=\"text-align: right;\">\n",
       "      <th></th>\n",
       "      <th>VIF</th>\n",
       "      <th>features</th>\n",
       "    </tr>\n",
       "  </thead>\n",
       "  <tbody>\n",
       "    <tr>\n",
       "      <th>4</th>\n",
       "      <td>1.868</td>\n",
       "      <td>insulin_test</td>\n",
       "    </tr>\n",
       "    <tr>\n",
       "      <th>7</th>\n",
       "      <td>2.268</td>\n",
       "      <td>years_smoking</td>\n",
       "    </tr>\n",
       "    <tr>\n",
       "      <th>5</th>\n",
       "      <td>3.625</td>\n",
       "      <td>liver_stress_test</td>\n",
       "    </tr>\n",
       "    <tr>\n",
       "      <th>6</th>\n",
       "      <td>4.006</td>\n",
       "      <td>cardio_stress_test</td>\n",
       "    </tr>\n",
       "    <tr>\n",
       "      <th>0</th>\n",
       "      <td>7.309</td>\n",
       "      <td>age</td>\n",
       "    </tr>\n",
       "    <tr>\n",
       "      <th>3</th>\n",
       "      <td>13.843</td>\n",
       "      <td>blood_pressure</td>\n",
       "    </tr>\n",
       "    <tr>\n",
       "      <th>2</th>\n",
       "      <td>16.129</td>\n",
       "      <td>bmi</td>\n",
       "    </tr>\n",
       "    <tr>\n",
       "      <th>1</th>\n",
       "      <td>20.150</td>\n",
       "      <td>weight</td>\n",
       "    </tr>\n",
       "  </tbody>\n",
       "</table>\n",
       "</div>"
      ],
      "text/plain": [
       "     VIF            features\n",
       "4  1.868        insulin_test\n",
       "7  2.268       years_smoking\n",
       "5  3.625   liver_stress_test\n",
       "6  4.006  cardio_stress_test\n",
       "0  7.309                 age\n",
       "3 13.843      blood_pressure\n",
       "2 16.129                 bmi\n",
       "1 20.150              weight"
      ]
     },
     "execution_count": 17,
     "metadata": {},
     "output_type": "execute_result"
    }
   ],
   "source": [
    "vif.sort_values(by = 'VIF')"
   ]
  },
  {
   "cell_type": "code",
   "execution_count": 18,
   "metadata": {},
   "outputs": [],
   "source": [
    "X.drop(['insulin_test'], axis = 1, inplace = True)"
   ]
  },
  {
   "cell_type": "code",
   "execution_count": 19,
   "metadata": {},
   "outputs": [],
   "source": [
    "vif = pd.DataFrame()\n",
    "vif[\"VIF\"] = [variance_inflation_factor(X.values, i) for i in range(X.shape[1])]\n",
    "vif[\"features\"] = X.columns"
   ]
  },
  {
   "cell_type": "code",
   "execution_count": 20,
   "metadata": {},
   "outputs": [
    {
     "data": {
      "text/html": [
       "<div>\n",
       "<style scoped>\n",
       "    .dataframe tbody tr th:only-of-type {\n",
       "        vertical-align: middle;\n",
       "    }\n",
       "\n",
       "    .dataframe tbody tr th {\n",
       "        vertical-align: top;\n",
       "    }\n",
       "\n",
       "    .dataframe thead th {\n",
       "        text-align: right;\n",
       "    }\n",
       "</style>\n",
       "<table border=\"1\" class=\"dataframe\">\n",
       "  <thead>\n",
       "    <tr style=\"text-align: right;\">\n",
       "      <th></th>\n",
       "      <th>VIF</th>\n",
       "      <th>features</th>\n",
       "    </tr>\n",
       "  </thead>\n",
       "  <tbody>\n",
       "    <tr>\n",
       "      <th>6</th>\n",
       "      <td>2.267</td>\n",
       "      <td>years_smoking</td>\n",
       "    </tr>\n",
       "    <tr>\n",
       "      <th>5</th>\n",
       "      <td>3.470</td>\n",
       "      <td>cardio_stress_test</td>\n",
       "    </tr>\n",
       "    <tr>\n",
       "      <th>4</th>\n",
       "      <td>3.614</td>\n",
       "      <td>liver_stress_test</td>\n",
       "    </tr>\n",
       "    <tr>\n",
       "      <th>0</th>\n",
       "      <td>7.266</td>\n",
       "      <td>age</td>\n",
       "    </tr>\n",
       "    <tr>\n",
       "      <th>3</th>\n",
       "      <td>13.638</td>\n",
       "      <td>blood_pressure</td>\n",
       "    </tr>\n",
       "    <tr>\n",
       "      <th>2</th>\n",
       "      <td>16.127</td>\n",
       "      <td>bmi</td>\n",
       "    </tr>\n",
       "    <tr>\n",
       "      <th>1</th>\n",
       "      <td>19.545</td>\n",
       "      <td>weight</td>\n",
       "    </tr>\n",
       "  </tbody>\n",
       "</table>\n",
       "</div>"
      ],
      "text/plain": [
       "     VIF            features\n",
       "6  2.267       years_smoking\n",
       "5  3.470  cardio_stress_test\n",
       "4  3.614   liver_stress_test\n",
       "0  7.266                 age\n",
       "3 13.638      blood_pressure\n",
       "2 16.127                 bmi\n",
       "1 19.545              weight"
      ]
     },
     "execution_count": 20,
     "metadata": {},
     "output_type": "execute_result"
    }
   ],
   "source": [
    "vif.sort_values(by = 'VIF')"
   ]
  },
  {
   "cell_type": "code",
   "execution_count": 21,
   "metadata": {},
   "outputs": [],
   "source": [
    "#Lets standardise the data using scikit StandardScaler()"
   ]
  },
  {
   "cell_type": "code",
   "execution_count": 22,
   "metadata": {},
   "outputs": [
    {
     "data": {
      "text/plain": [
       "array([[ 1.66589677,  0.51977498, -0.5971136 , ...,  2.75272183,\n",
       "        -1.41888518,  1.42534108],\n",
       "       [-0.57797896, -0.70193508,  0.73718577, ..., -0.45250726,\n",
       "         0.39086488, -0.4914866 ],\n",
       "       [ 1.15921516,  0.42579728, -0.26939095, ..., -0.77963001,\n",
       "        -1.41888518,  0.7065307 ],\n",
       "       ...,\n",
       "       [-0.28844661, -0.2007207 , -0.77267931, ..., -0.80545549,\n",
       "        -1.41888518,  0.22732378],\n",
       "       [ 5.64696662, -1.04651997, -0.4800698 , ..., -0.90301842,\n",
       "         0.32505579, -0.73109006],\n",
       "       [-0.36082969,  0.73905627, -0.29279971, ...,  0.23617223,\n",
       "        -1.41888518, -0.73109006]])"
      ]
     },
     "execution_count": 22,
     "metadata": {},
     "output_type": "execute_result"
    }
   ],
   "source": [
    "scaler = StandardScaler()\n",
    "X = scaler.fit_transform(X)\n",
    "X"
   ]
  },
  {
   "cell_type": "markdown",
   "metadata": {},
   "source": [
    "# As we see now, the above X variables have VIF < 10. So, we are good."
   ]
  },
  {
   "cell_type": "code",
   "execution_count": 23,
   "metadata": {},
   "outputs": [
    {
     "name": "stdout",
     "output_type": "stream",
     "text": [
      "Accuracy of logistic regression classifier on test set: 0.81\n"
     ]
    }
   ],
   "source": [
    "#Lets split the data into test and train\n",
    "X_train, X_test, y_train, y_test = train_test_split(X, y, stratify = y, test_size=0.2, random_state=0)\n",
    "\n",
    "logreg = LogisticRegression()\n",
    "logreg.fit(X_train, y_train)\n",
    "\n",
    "y_pred = logreg.predict(X_test)\n",
    "print('Accuracy of logistic regression classifier on test set: {:.2f}'.format(logreg.score(X_test, y_test)))"
   ]
  },
  {
   "cell_type": "code",
   "execution_count": 24,
   "metadata": {},
   "outputs": [
    {
     "name": "stdout",
     "output_type": "stream",
     "text": [
      "              precision    recall  f1-score   support\n",
      "\n",
      "           0       0.81      0.92      0.86       104\n",
      "           1       0.80      0.59      0.68        56\n",
      "\n",
      "    accuracy                           0.81       160\n",
      "   macro avg       0.81      0.76      0.77       160\n",
      "weighted avg       0.81      0.81      0.80       160\n",
      "\n"
     ]
    }
   ],
   "source": [
    "from sklearn.metrics import classification_report\n",
    "print(classification_report(y_test, y_pred))"
   ]
  },
  {
   "cell_type": "code",
   "execution_count": 25,
   "metadata": {},
   "outputs": [
    {
     "name": "stdout",
     "output_type": "stream",
     "text": [
      "[[96  8]\n",
      " [23 33]]\n"
     ]
    }
   ],
   "source": [
    "confusion_matrix = confusion_matrix(y_test, y_pred)\n",
    "print(confusion_matrix)"
   ]
  },
  {
   "cell_type": "code",
   "execution_count": 26,
   "metadata": {},
   "outputs": [],
   "source": [
    "#Create a Gaussian Classifier\n",
    "clf=RandomForestClassifier(n_estimators=100)\n",
    "\n",
    "#Train the model using the training sets y_pred=clf.predict(X_test)\n",
    "clf.fit(X_train,y_train)\n",
    "\n",
    "y_pred=clf.predict(X_test)"
   ]
  },
  {
   "cell_type": "code",
   "execution_count": 27,
   "metadata": {},
   "outputs": [
    {
     "data": {
      "image/png": "[encoded data removed]",
      "text/plain": [
       "<Figure size 432x144 with 1 Axes>"
      ]
     },
     "metadata": {},
     "output_type": "display_data"
    }
   ],
   "source": [
    "logit_roc_auc = roc_auc_score(y_test, clf.predict(X_test))\n",
    "fpr, tpr, thresholds = roc_curve(y_test, clf.predict_proba(X_test)[:,1])\n",
    "plt.figure()\n",
    "plt.plot(fpr, tpr, label='Random Forest (area = %0.2f)' % logit_roc_auc)\n",
    "plt.plot([0, 1], [0, 1],'r--')\n",
    "plt.xlim([0.0, 1.0])\n",
    "plt.ylim([0.0, 1.05])\n",
    "plt.xlabel('False Positive Rate')\n",
    "plt.ylabel('True Positive Rate')\n",
    "plt.title('Receiver operating characteristic')\n",
    "plt.legend(loc=\"lower right\")\n",
    "plt.savefig('Log_ROC')\n",
    "plt.show()"
   ]
  },
  {
   "cell_type": "code",
   "execution_count": 28,
   "metadata": {},
   "outputs": [
    {
     "name": "stdout",
     "output_type": "stream",
     "text": [
      "Accuracy: 0.825\n"
     ]
    }
   ],
   "source": [
    "from sklearn import metrics\n",
    "# Model Accuracy, how often is the classifier correct?\n",
    "print(\"Accuracy:\",metrics.accuracy_score(y_test, y_pred))"
   ]
  },
  {
   "cell_type": "code",
   "execution_count": 29,
   "metadata": {},
   "outputs": [
    {
     "name": "stdout",
     "output_type": "stream",
     "text": [
      "              precision    recall  f1-score   support\n",
      "\n",
      "           0       0.82      0.93      0.87       104\n",
      "           1       0.83      0.62      0.71        56\n",
      "\n",
      "    accuracy                           0.82       160\n",
      "   macro avg       0.83      0.78      0.79       160\n",
      "weighted avg       0.83      0.82      0.82       160\n",
      "\n"
     ]
    }
   ],
   "source": [
    "print(classification_report(y_test, y_pred))"
   ]
  },
  {
   "cell_type": "markdown",
   "metadata": {},
   "source": [
    "# So, the accuracy is better in randomforest i.e. 82.5% and the recall is also better i.e. 62% when compared to LR which is 59%. The f1 score of randomforest is also better i.e. 71% when compared to Logistic Regression which is 68%. So, I would go with RandomForest."
   ]
  }
 ],
 "metadata": {
  "kernelspec": {
   "display_name": "Python 3",
   "language": "python",
   "name": "python3"
  },
  "language_info": {
   "codemirror_mode": {
    "name": "ipython",
    "version": 3
   },
   "file_extension": ".py",
   "mimetype": "text/x-python",
   "name": "python",
   "nbconvert_exporter": "python",
   "pygments_lexer": "ipython3",
   "version": "3.7.1"
  }
 },
 "nbformat": 4,
 "nbformat_minor": 2
}
